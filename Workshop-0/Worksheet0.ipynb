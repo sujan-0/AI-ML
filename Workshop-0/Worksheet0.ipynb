{
 "cells": [
  {
   "cell_type": "markdown",
   "metadata": {
    "id": "pJFnTlDRqytU"
   },
   "source": [
    "**Worksheet-0**"
   ]
  },
  {
   "cell_type": "markdown",
   "metadata": {
    "id": "NG6tFxehgR5_"
   },
   "source": [
    "**TO - DO - Task**\n",
    "\n",
    "**4.1 Exercise on Functions:**\n",
    "\n",
    "**Task - 1:**\n",
    "\n",
    "Create a Python program that converts between different units of measurement.\n",
    "• The program should:\n",
    "1. Prompt the user to choose the type of conversion (e.g., length, weight, volume).\n",
    "2. Ask the user to input the value to be converted.\n",
    "3. Perform the conversion and display the result.\n",
    "4. Handle potential errors, such as invalid input or unsupported conversion types."
   ]
  },
  {
   "cell_type": "code",
   "execution_count": 1,
   "metadata": {
    "colab": {
     "base_uri": "https://localhost:8080/"
    },
    "id": "-PoiO-ZPgJLq",
    "outputId": "268621d0-75e5-4184-9331-648d5f8167ff"
   },
   "outputs": [
    {
     "name": "stdout",
     "output_type": "stream",
     "text": [
      "Select conversion type:\n",
      "1. Length (m <-> ft)\n",
      "2. Weight (kg <-> lbs)\n",
      "3. Volume (L <-> gal)\n"
     ]
    },
    {
     "name": "stdin",
     "output_type": "stream",
     "text": [
      "Enter 1, 2, or 3:  2\n",
      "Convert from (kg/lbs):  kg\n",
      "Enter the value to convert:  50\n"
     ]
    },
    {
     "name": "stdout",
     "output_type": "stream",
     "text": [
      "Converted value: 110.2310 lbs\n"
     ]
    }
   ],
   "source": [
    "def convert_units(value, from_unit, to_unit):\n",
    "    conversions = {\n",
    "        \"m_to_ft\": 3.28084,\n",
    "        \"ft_to_m\": 1 / 3.28084,\n",
    "        \"kg_to_lbs\": 2.20462,\n",
    "        \"lbs_to_kg\": 1 / 2.20462,\n",
    "        \"L_to_gal\": 0.264172,\n",
    "        \"gal_to_L\": 1 / 0.264172\n",
    "    }\n",
    "\n",
    "    key = f\"{from_unit}_to_{to_unit}\"\n",
    "\n",
    "    if key in conversions:\n",
    "        return value * conversions[key]\n",
    "    else:\n",
    "        raise ValueError(\"Unsupported conversion\")\n",
    "\n",
    "def main():\n",
    "    try:\n",
    "        print(\"Select conversion type:\")\n",
    "        print(\"1. Length (m <-> ft)\")\n",
    "        print(\"2. Weight (kg <-> lbs)\")\n",
    "        print(\"3. Volume (L <-> gal)\")\n",
    "\n",
    "        choice = input(\"Enter 1, 2, or 3: \").strip()\n",
    "\n",
    "        if choice == \"1\":\n",
    "            from_unit = input(\"Convert from (m/ft): \").strip().lower()\n",
    "            to_unit = \"ft\" if from_unit == \"m\" else \"m\"\n",
    "        elif choice == \"2\":\n",
    "            from_unit = input(\"Convert from (kg/lbs): \").strip().lower()\n",
    "            to_unit = \"lbs\" if from_unit == \"kg\" else \"kg\"\n",
    "        elif choice == \"3\":\n",
    "            from_unit = input(\"Convert from (L/gal): \").strip().lower()\n",
    "            to_unit = \"gal\" if from_unit == \"L\" else \"L\"\n",
    "        else:\n",
    "            print(\"Invalid choice!\")\n",
    "            return\n",
    "\n",
    "        value = float(input(\"Enter the value to convert: \"))\n",
    "        result = convert_units(value, from_unit, to_unit)\n",
    "        print(f\"Converted value: {result:.4f} {to_unit}\")\n",
    "\n",
    "    except ValueError as e:\n",
    "        print(f\"Error: {e}\")\n",
    "    except Exception:\n",
    "        print(\"An unexpected error occurred. Please try again.\")\n",
    "\n",
    "if __name__ == \"__main__\":\n",
    "    main()\n"
   ]
  },
  {
   "cell_type": "markdown",
   "metadata": {
    "id": "NI9SiAqukngp"
   },
   "source": [
    "**Task - 2:**\n",
    "\n",
    "Create a Python program that performs various mathematical operations on a list of numbers.\n",
    "• The Program should:\n",
    "1. Prompt the user to choose an operation (e.g., find the sum, average, maximum, or minimum\n",
    "of the numbers).\n",
    "2. Ask the user to input a list of numbers (separated by spaces).\n",
    "18\n",
    "3. Perform the selected operation and display the result.\n",
    "4. Handle potential errors, such as invalid input or empty lists."
   ]
  },
  {
   "cell_type": "code",
   "execution_count": 2,
   "metadata": {
    "colab": {
     "base_uri": "https://localhost:8080/"
    },
    "id": "BG9i20P_ku6K",
    "outputId": "bc3978f4-7e55-4c4b-c114-6aabf716a7b6"
   },
   "outputs": [
    {
     "name": "stdout",
     "output_type": "stream",
     "text": [
      "Select an operation:\n",
      "1. Sum\n",
      "2. Average\n",
      "3. Maximum\n",
      "4. Minimum\n"
     ]
    },
    {
     "name": "stdin",
     "output_type": "stream",
     "text": [
      "Enter 1, 2, 3, or 4:  2\n",
      "Enter a list of numbers separated by spaces:  5 6 8 7 9 10\n"
     ]
    },
    {
     "name": "stdout",
     "output_type": "stream",
     "text": [
      "Result: 7.5000\n"
     ]
    }
   ],
   "source": [
    "def calculate_sum(numbers):\n",
    "    \"\"\"\n",
    "    Calculate the sum of a list of numbers.\n",
    "\n",
    "    Parameters:\n",
    "    numbers (list of float): The list of numbers.\n",
    "\n",
    "    Returns:\n",
    "    float: The sum of the numbers.\n",
    "    \"\"\"\n",
    "    return sum(numbers)\n",
    "\n",
    "def calculate_average(numbers):\n",
    "    \"\"\"\n",
    "    Calculate the average of a list of numbers.\n",
    "\n",
    "    Parameters:\n",
    "    numbers (list of float): The list of numbers.\n",
    "\n",
    "    Returns:\n",
    "    float: The average of the numbers.\n",
    "    \"\"\"\n",
    "    if not numbers:\n",
    "        raise ValueError(\"Cannot calculate average of an empty list.\")\n",
    "    return sum(numbers) / len(numbers)\n",
    "\n",
    "def find_maximum(numbers):\n",
    "    \"\"\"\n",
    "    Find the maximum number in a list.\n",
    "\n",
    "    Parameters:\n",
    "    numbers (list of float): The list of numbers.\n",
    "\n",
    "    Returns:\n",
    "    float: The maximum number.\n",
    "    \"\"\"\n",
    "    return max(numbers)\n",
    "\n",
    "def find_minimum(numbers):\n",
    "    \"\"\"\n",
    "    Find the minimum number in a list.\n",
    "\n",
    "    Parameters:\n",
    "    numbers (list of float): The list of numbers.\n",
    "\n",
    "    Returns:\n",
    "    float: The minimum number.\n",
    "    \"\"\"\n",
    "    return min(numbers)\n",
    "\n",
    "def main():\n",
    "    try:\n",
    "        print(\"Select an operation:\")\n",
    "        print(\"1. Sum\")\n",
    "        print(\"2. Average\")\n",
    "        print(\"3. Maximum\")\n",
    "        print(\"4. Minimum\")\n",
    "\n",
    "        choice = input(\"Enter 1, 2, 3, or 4: \").strip()\n",
    "        operation_map = {\"1\": calculate_sum, \"2\": calculate_average, \"3\": find_maximum, \"4\": find_minimum}\n",
    "\n",
    "        if choice not in operation_map:\n",
    "            print(\"Invalid choice!\")\n",
    "            return\n",
    "\n",
    "        numbers_input = input(\"Enter a list of numbers separated by spaces: \").strip()\n",
    "        numbers = [float(num) for num in numbers_input.split()]\n",
    "\n",
    "        if not numbers:\n",
    "            print(\"Error: No numbers entered.\")\n",
    "            return\n",
    "\n",
    "        result = operation_map[choice](numbers)\n",
    "        print(f\"Result: {result:.4f}\")\n",
    "\n",
    "    except ValueError as e:\n",
    "        print(f\"Error: {e}\")\n",
    "    except Exception:\n",
    "        print(\"An unexpected error occurred. Please try again.\")\n",
    "\n",
    "if __name__ == \"__main__\":\n",
    "    main()\n"
   ]
  },
  {
   "cell_type": "markdown",
   "metadata": {
    "id": "e-xR6woTs5sM"
   },
   "source": [
    "**4.2 Exercise on List Manipulation:**\n"
   ]
  },
  {
   "cell_type": "markdown",
   "metadata": {
    "id": "ijuKGZRPtF1a"
   },
   "source": [
    "**1. Extract Every Other Element:**\n",
    "\n",
    "Write a Python function that extracts every other element from a list, starting from the first element.\n",
    "\n",
    "• Requirements:\n",
    "– Define a function extract every other(lst) that takes a list lst as input and returns a\n",
    "new list containing every other element from the original list.\n",
    "\n",
    "– Example: For the input [1, 2, 3, 4, 5, 6], the output should be [1, 3, 5]."
   ]
  },
  {
   "cell_type": "code",
   "execution_count": 3,
   "metadata": {
    "colab": {
     "base_uri": "https://localhost:8080/"
    },
    "id": "dQZcLbtmtNpe",
    "outputId": "060e9536-eebb-47fb-e38b-751abab1a645"
   },
   "outputs": [
    {
     "name": "stdout",
     "output_type": "stream",
     "text": [
      "Every other element: [1, 3, 5]\n"
     ]
    }
   ],
   "source": [
    "def extract_every_other(lst):\n",
    "\n",
    "    return lst[::2]\n",
    "\n",
    "lst = [1, 2, 3, 4, 5, 6]\n",
    "print(\"Every other element:\", extract_every_other(lst))\n"
   ]
  },
  {
   "cell_type": "markdown",
   "metadata": {
    "id": "iH-ivGautN-i"
   },
   "source": [
    "**2. Slice a Sublist:**\n",
    "\n",
    "Write a Python function that returns a sublist from a given list, starting from a specified index and\n",
    "ending at another specified index.\n",
    "\n",
    "• Requirements:\n",
    "\n",
    "– Define a function get sublist(lst, start, end) that takes a list lst, a starting index\n",
    "start, and an ending index end as input and returns the sublist from start to end (inclusive).\n",
    "\n",
    "– Example: For the input [1, 2, 3, 4, 5, 6] with start=2 and end=4, the output should\n",
    "be [3, 4, 5].\n"
   ]
  },
  {
   "cell_type": "code",
   "execution_count": 4,
   "metadata": {
    "colab": {
     "base_uri": "https://localhost:8080/"
    },
    "id": "78vvcqUutWrG",
    "outputId": "c7220b2e-fcc2-453c-842c-495215d53c66"
   },
   "outputs": [
    {
     "name": "stdout",
     "output_type": "stream",
     "text": [
      "Sublist (2 to 4): [3, 4, 5]\n"
     ]
    }
   ],
   "source": [
    "\n",
    "def get_sublist(lst, start, end):\n",
    "    return lst[start:end+1]\n",
    "\n",
    "# Example usage:\n",
    "print(\"Sublist (2 to 4):\", get_sublist(lst, 2, 4))\n",
    "\n"
   ]
  },
  {
   "cell_type": "markdown",
   "metadata": {
    "id": "m48FQzjCtXES"
   },
   "source": [
    "**3. Reverse a List Using Slicing:**\n",
    "\n",
    "Write a Python function that reverses a list using slicing.\n",
    "\n",
    "• Requirements:\n",
    "\n",
    "– Define a function reverse list(lst) that takes a list lst and returns a reversed list using\n",
    "slicing.\n",
    "– Example: For the input [1, 2, 3, 4, 5], the output should be [5, 4, 3, 2, 1]."
   ]
  },
  {
   "cell_type": "code",
   "execution_count": 5,
   "metadata": {
    "colab": {
     "base_uri": "https://localhost:8080/"
    },
    "id": "IuSkrKxWte2W",
    "outputId": "0df6befa-3763-418d-8145-7b03942dedb3"
   },
   "outputs": [
    {
     "name": "stdout",
     "output_type": "stream",
     "text": [
      "Reversed list: [6, 5, 4, 3, 2, 1]\n"
     ]
    }
   ],
   "source": [
    "def reverse_list(lst):\n",
    "\n",
    "    return lst[::-1]\n",
    "\n",
    "# Example usage:\n",
    "print(\"Reversed list:\", reverse_list(lst))"
   ]
  },
  {
   "cell_type": "markdown",
   "metadata": {
    "id": "BuYYLv_HtxE9"
   },
   "source": [
    "**4. Remove the First and Last Elements:**\n",
    "\n",
    "Write a Python function that removes the first and last elements of a list and returns the resulting\n",
    "sublist.\n",
    "\n",
    "• Requirements:\n",
    "\n",
    "– Define a function remove first last(lst) that takes a list lst and returns a sublist without\n",
    "the first and last elements using slicing.\n",
    "\n",
    "– Example: For the input [1, 2, 3, 4, 5], the output should be [2, 3, 4]"
   ]
  },
  {
   "cell_type": "code",
   "execution_count": 6,
   "metadata": {
    "colab": {
     "base_uri": "https://localhost:8080/"
    },
    "id": "aciQAf_4t4l4",
    "outputId": "26698c44-a2bf-4430-f0eb-cab3cf89e939"
   },
   "outputs": [
    {
     "name": "stdout",
     "output_type": "stream",
     "text": [
      "Removed first and last: [2, 3, 4, 5]\n"
     ]
    }
   ],
   "source": [
    "\n",
    "def remove_first_last(lst):\n",
    "\n",
    "    return lst[1:-1]\n",
    "\n",
    "# Example usage:\n",
    "print(\"Removed first and last:\", remove_first_last(lst))"
   ]
  },
  {
   "cell_type": "markdown",
   "metadata": {
    "id": "Pr4U5Du_t5AQ"
   },
   "source": [
    "**5. Get the First n Elements:**\n",
    "\n",
    "Write a Python function that extracts the first n elements from a list.\n",
    "• Requirements:\n",
    "– Define a function get first n(lst, n) that takes a list lst and an integer n as input and\n",
    "returns the first n elements of the list using slicing.\n",
    "– Example: For the input [1, 2, 3, 4, 5] with n=3, the output should be [1, 2, 3].\n"
   ]
  },
  {
   "cell_type": "code",
   "execution_count": 7,
   "metadata": {
    "colab": {
     "base_uri": "https://localhost:8080/"
    },
    "id": "kO2zVuNyt_Z1",
    "outputId": "3a37b434-5f56-49ec-9cca-105cc3f3af5c"
   },
   "outputs": [
    {
     "name": "stdout",
     "output_type": "stream",
     "text": [
      "First 3 elements: [1, 2, 3]\n"
     ]
    }
   ],
   "source": [
    "\n",
    "def get_first_n(lst, n):\n",
    "\n",
    "    return lst[:n]\n",
    "\n",
    "# Example usage:\n",
    "print(\"First 3 elements:\", get_first_n(lst, 3))\n"
   ]
  },
  {
   "cell_type": "markdown",
   "metadata": {
    "id": "R-ATqJh0uD1x"
   },
   "source": [
    "**6. Extract Elements from the End:**\n",
    "\n",
    "Write a Python function that extracts the last n elements of a list using slicing.\n",
    "• Requirements:\n",
    "– Define a function get last n(lst, n) that takes a list lst and an integer n as input and\n",
    "returns the last n elements of the list.\n",
    "– Example: For the input [1, 2, 3, 4, 5] with n=2, the output should be [4, 5]."
   ]
  },
  {
   "cell_type": "code",
   "execution_count": 8,
   "metadata": {
    "id": "dLhoIr4Cv4Wt"
   },
   "outputs": [
    {
     "name": "stdout",
     "output_type": "stream",
     "text": [
      "[4, 5]\n"
     ]
    }
   ],
   "source": [
    "def get_last_n(lst, n):\n",
    "    return lst[-n:]\n",
    "\n",
    "lst = [1, 2, 3, 4, 5]\n",
    "n = 2\n",
    "print(get_last_n(lst, n))  \n"
   ]
  },
  {
   "cell_type": "markdown",
   "metadata": {
    "id": "r9Cui8xIuJfp"
   },
   "source": [
    "**7. Extract Elements in Reverse Order:**\n",
    "\n",
    "Write a Python function that extracts a list of elements in reverse order starting from the second-to-last\n",
    "element and skipping one element in between.\n",
    "\n",
    "• Requirements:\n",
    "\n",
    "– Define a function reverse skip(lst) that takes a list lst and returns a new list containing\n",
    "every second element starting from the second-to-last, moving backward.\n",
    "\n",
    "– Example: For the input [1, 2, 3, 4, 5, 6], the output should be [5, 3, 1]."
   ]
  },
  {
   "cell_type": "code",
   "execution_count": 9,
   "metadata": {
    "id": "_-4FB-3ZwA5D"
   },
   "outputs": [
    {
     "name": "stdout",
     "output_type": "stream",
     "text": [
      "[5, 3, 1]\n"
     ]
    }
   ],
   "source": [
    "def reverse_skip(lst):\n",
    "    return lst[-2::-2]\n",
    "\n",
    "# Example usage:\n",
    "lst = [1, 2, 3, 4, 5, 6]\n",
    "print(reverse_skip(lst))  \n"
   ]
  },
  {
   "cell_type": "markdown",
   "metadata": {
    "id": "hum_rR99l4iU"
   },
   "source": [
    "**4.3 Exercise on Nested List:**\n"
   ]
  },
  {
   "cell_type": "markdown",
   "metadata": {
    "id": "WSWT4rTfmDkL"
   },
   "source": [
    "**1. Flatten a Nested List:**\n",
    "\n",
    "Write a Python function that takes a nested list and flattens it into a single list, where all the elements\n",
    "are in a single dimension.\n",
    "\n",
    "• Requirements:\n",
    "– Define a function flatten(lst) that takes a nested list lst and returns a flattened version\n",
    "of the list.\n",
    "\n",
    "– Example: For the input [[1, 2], [3, 4], [5]], the output should be [1, 2, 3, 4, 5]."
   ]
  },
  {
   "cell_type": "code",
   "execution_count": 10,
   "metadata": {
    "id": "-iNLhKkTuV4b"
   },
   "outputs": [
    {
     "name": "stdout",
     "output_type": "stream",
     "text": [
      "[1, 2, 3, 4, 5]\n"
     ]
    }
   ],
   "source": [
    "def flatten(lst):\n",
    "    result = []\n",
    "    for item in lst:\n",
    "        if isinstance(item, list):\n",
    "            result.extend(flatten(item))  \n",
    "        else:\n",
    "            result.append(item)\n",
    "    return result\n",
    "\n",
    "print(flatten([[1, 2], [3, 4], [5]]))  "
   ]
  },
  {
   "cell_type": "markdown",
   "metadata": {
    "id": "iJ4hpQbdmlkx"
   },
   "source": [
    "**2. Accessing Nested List Elements:**\n",
    "\n",
    "Write a Python function that extracts a specific element from a nested list given its indices.\n",
    "\n",
    "• Requirements:\n",
    "– Define a function access nested element(lst, indices) that takes a nested list lst and a list of indices indices, and returns the element at that position.\n",
    "\n",
    "– Example: For the input lst = [[1, 2, 3], [4, 5, 6], [7, 8, 9]] with indices = [1,\n",
    "2], the output should be 6."
   ]
  },
  {
   "cell_type": "code",
   "execution_count": 11,
   "metadata": {
    "id": "eQYy7T5lm1cu"
   },
   "outputs": [
    {
     "name": "stdout",
     "output_type": "stream",
     "text": [
      "6\n"
     ]
    }
   ],
   "source": [
    "def access_nested_element(lst, indices):\n",
    "    for index in indices:\n",
    "        lst = lst[index]\n",
    "    return lst\n",
    "\n",
    "lst = [[1, 2, 3], [4, 5, 6], [7, 8, 9]]\n",
    "indices = [1, 2]\n",
    "print(access_nested_element(lst, indices))  \n"
   ]
  },
  {
   "cell_type": "markdown",
   "metadata": {
    "id": "-BRvJvAnm2Go"
   },
   "source": [
    "**3. Sum of All Elements in a Nested List:**\n",
    "\n",
    "Write a Python function that calculates the sum of all the numbers in a nested list (regardless of depth).\n",
    "\n",
    "• Requirements:\n",
    "\n",
    "– Define a function sum nested(lst) that takes a nested list lst and returns the sum of all\n",
    "the elements.\n",
    "\n",
    "– Example: For the input [[1, 2], [3, [4, 5]], 6], the output should be 21"
   ]
  },
  {
   "cell_type": "code",
   "execution_count": 12,
   "metadata": {
    "id": "mmO2-mXCngNH"
   },
   "outputs": [
    {
     "name": "stdout",
     "output_type": "stream",
     "text": [
      "21\n"
     ]
    }
   ],
   "source": [
    "def sum_nested(lst):\n",
    "    total = 0\n",
    "    for item in lst:\n",
    "        if isinstance(item, list):\n",
    "            total += sum_nested(item)\n",
    "        else:\n",
    "            total += item\n",
    "    return total\n",
    "\n",
    "print(sum_nested([[1, 2], [3, [4, 5]], 6]))  "
   ]
  },
  {
   "cell_type": "markdown",
   "metadata": {
    "id": "Ww2qltjqngpp"
   },
   "source": [
    "**4. Remove Specific Element from a Nested List:**\n",
    "\n",
    "Write a Python function that removes all occurrences of a specific element from a nested list.\n",
    "\n",
    "• Requirements:\n",
    "– Define a function remove element(lst, elem) that removes elem from lst and returns the\n",
    "modified list.\n",
    "\n",
    "– Example: For the input lst = [[1, 2], [3, 2], [4, 5]] and elem = 2, the output should\n",
    "be [[1], [3], [4, 5]]."
   ]
  },
  {
   "cell_type": "code",
   "execution_count": 13,
   "metadata": {
    "id": "93HxfoEIoK63"
   },
   "outputs": [
    {
     "name": "stdout",
     "output_type": "stream",
     "text": [
      "[[1], [3], [4, 5]]\n"
     ]
    }
   ],
   "source": [
    "def remove_element(lst, elem):\n",
    "    if isinstance(lst, list):\n",
    "        return [remove_element(item, elem) for item in lst if item != elem]\n",
    "    return lst\n",
    "\n",
    "lst = [[1, 2], [3, 2], [4, 5]]\n",
    "elem = 2\n",
    "print(remove_element(lst, elem))  "
   ]
  },
  {
   "cell_type": "markdown",
   "metadata": {
    "id": "oxLPh6UloLR7"
   },
   "source": [
    "**5. Find the Maximum Element in a Nested List:**\n",
    "\n",
    "Write a Python function that finds the maximum element in a nested list (regardless of depth).\n",
    "\n",
    "• Requirements:\n",
    "– Define a function find max(lst) that takes a nested list lst and returns the maximum\n",
    "element.\n",
    "\n",
    "– Example: For the input [[1, 2], [3, [4, 5]], 6], the output should be 6."
   ]
  },
  {
   "cell_type": "code",
   "execution_count": 14,
   "metadata": {
    "id": "GjUQPf-7oSkr"
   },
   "outputs": [
    {
     "name": "stdout",
     "output_type": "stream",
     "text": [
      "6\n"
     ]
    }
   ],
   "source": [
    "def find_max(lst):\n",
    "    max_val = float('-inf')\n",
    "    for item in lst:\n",
    "        if isinstance(item, list):\n",
    "            max_val = max(max_val, find_max(item))\n",
    "        else:\n",
    "            max_val = max(max_val, item)\n",
    "    return max_val\n",
    "\n",
    "print(find_max([[1, 2], [3, [4, 5]], 6]))  "
   ]
  },
  {
   "cell_type": "markdown",
   "metadata": {
    "id": "xWgrkSrToTD_"
   },
   "source": [
    "**6. Count Occurrences of an Element in a Nested List:**\n",
    "Write a Python function that counts how many times a specific element appears in a nested list.\n",
    "\n",
    "• Requirements:\n",
    "\n",
    "– Define a function count occurrences(lst, elem) that counts the occurrences of elem in\n",
    "the nested list lst.\n",
    "\n",
    "– Example: For the input lst = [[1, 2], [2, 3], [2, 4]] and elem = 2, the output should\n",
    "be 3."
   ]
  },
  {
   "cell_type": "code",
   "execution_count": 15,
   "metadata": {
    "id": "qBff2ayBoiFN"
   },
   "outputs": [
    {
     "name": "stdout",
     "output_type": "stream",
     "text": [
      "3\n"
     ]
    }
   ],
   "source": [
    "def count_occurrences(lst, elem):\n",
    "    count = 0\n",
    "    for item in lst:\n",
    "        if isinstance(item, list):\n",
    "            count += count_occurrences(item, elem)\n",
    "        elif item == elem:\n",
    "            count += 1\n",
    "    return count\n",
    "\n",
    "lst = [[1, 2], [2, 3], [2, 4]]\n",
    "elem = 2\n",
    "print(count_occurrences(lst, elem))  "
   ]
  },
  {
   "cell_type": "markdown",
   "metadata": {
    "id": "vai3z1MKoicL"
   },
   "source": [
    "**7. Flatten a List of Lists of Lists:**\n",
    "\n",
    "Write a Python function that flattens a list of lists of lists into a single list, regardless of the depth.\n",
    "\n",
    "• Requirements:\n",
    "\n",
    "– Define a function deep flatten(lst) that takes a deeply nested list lst and returns a single\n",
    "flattened list.\n",
    "\n",
    "– Example: For the input [[[1, 2], [3, 4]], [[5, 6], [7, 8]]], the output should be\n",
    "[1, 2, 3, 4, 5, 6, 7, 8]"
   ]
  },
  {
   "cell_type": "code",
   "execution_count": 16,
   "metadata": {
    "id": "qGJRmFPdoqYX"
   },
   "outputs": [
    {
     "name": "stdout",
     "output_type": "stream",
     "text": [
      "[1, 2, 3, 4, 5, 6, 7, 8]\n"
     ]
    }
   ],
   "source": [
    "def deep_flatten(lst):\n",
    "    result = []\n",
    "    for item in lst:\n",
    "        if isinstance(item, list):\n",
    "            result.extend(deep_flatten(item))\n",
    "        else:\n",
    "            result.append(item)\n",
    "    return result\n",
    "\n",
    "print(deep_flatten([[[1, 2], [3, 4]], [[5, 6], [7, 8]]]))  "
   ]
  },
  {
   "cell_type": "markdown",
   "metadata": {
    "id": "g2DJRgX5oqvX"
   },
   "source": [
    "**8. Nested List Average:**\n",
    "\n",
    "Write a Python function that calculates the average of all elements in a nested list.\n",
    "\n",
    "• Requirements:\n",
    "\n",
    "– Define a function average nested(lst) that takes a nested list lst and returns the average\n",
    "of all the elements.\n",
    "\n",
    "– Example: For the input [[1, 2], [3, 4], [5, 6]], the output should be 3.5.\n"
   ]
  },
  {
   "cell_type": "code",
   "execution_count": 17,
   "metadata": {
    "id": "EmzNPw7Lo3sC"
   },
   "outputs": [
    {
     "name": "stdout",
     "output_type": "stream",
     "text": [
      "3.5\n"
     ]
    }
   ],
   "source": [
    "def average_nested(lst):\n",
    "    total, count = 0, 0\n",
    "    def helper(lst):\n",
    "        nonlocal total, count\n",
    "        for item in lst:\n",
    "            if isinstance(item, list):\n",
    "                helper(item)\n",
    "            else:\n",
    "                total += item\n",
    "                count += 1\n",
    "    helper(lst)\n",
    "    return total / count if count > 0 else 0\n",
    "\n",
    "print(average_nested([[1, 2], [3, 4], [5, 6]]))  "
   ]
  },
  {
   "cell_type": "markdown",
   "metadata": {
    "id": "TONS08kOpM3R"
   },
   "source": [
    "**10 To - Do - NumPy**"
   ]
  },
  {
   "cell_type": "markdown",
   "metadata": {
    "id": "CuuJe5_tpRyY"
   },
   "source": [
    "**10.1 Basic Vector and Matrix Operation with Numpy.**\n",
    "\n",
    "Problem - 1: Array Creation:\n",
    "\n",
    "Complete the following Tasks:\n",
    "1. Initialize an empty array with size 2X2.\n",
    "2. Initialize an all one array with size 4X2.\n",
    "3. Return a new array of given shape and type, filled with fill value.{Hint: np.full}\n",
    "4. Return a new array of zeros with same shape and type as a given array.{Hint: np.zeros like}\n",
    "5. Return a new array of ones with same shape and type as a given array.{Hint: np.ones like}\n",
    "6. For an existing list new_list = [1,2,3,4] convert to an numpy array.{Hint: np.array()}"
   ]
  },
  {
   "cell_type": "code",
   "execution_count": 18,
   "metadata": {
    "id": "SvU-4Irlpbyy"
   },
   "outputs": [
    {
     "name": "stdout",
     "output_type": "stream",
     "text": [
      "Empty array (2x2):\n",
      " [[8.38411072e+169 3.21431190e-057]\n",
      " [6.56329461e-091 4.85560391e-033]]\n",
      "\n",
      "All-one array (4x2):\n",
      " [[1. 1.]\n",
      " [1. 1.]\n",
      " [1. 1.]\n",
      " [1. 1.]]\n",
      "\n",
      "Array filled with 7 (3x3):\n",
      " [[7 7 7]\n",
      " [7 7 7]\n",
      " [7 7 7]]\n",
      "\n",
      "Zeros array with same shape as array2:\n",
      " [[0. 0.]\n",
      " [0. 0.]\n",
      " [0. 0.]\n",
      " [0. 0.]]\n",
      "\n",
      "Ones array with same shape as array2:\n",
      " [[1. 1.]\n",
      " [1. 1.]\n",
      " [1. 1.]\n",
      " [1. 1.]]\n",
      "\n",
      "Converted list to array: [1 2 3 4]\n"
     ]
    }
   ],
   "source": [
    "import numpy as np\n",
    "\n",
    "array1 = np.empty((2, 2))\n",
    "print(\"Empty array (2x2):\\n\", array1)\n",
    "\n",
    "array2 = np.ones((4, 2))\n",
    "print(\"\\nAll-one array (4x2):\\n\", array2)\n",
    "\n",
    "array3 = np.full((3, 3), 7)\n",
    "print(\"\\nArray filled with 7 (3x3):\\n\", array3)\n",
    "\n",
    "array4 = np.zeros_like(array2)\n",
    "print(\"\\nZeros array with same shape as array2:\\n\", array4)\n",
    "\n",
    "array5 = np.ones_like(array2)\n",
    "print(\"\\nOnes array with same shape as array2:\\n\", array5)\n",
    "\n",
    "new_list = [1, 2, 3, 4]\n",
    "array6 = np.array(new_list)\n",
    "print(\"\\nConverted list to array:\", array6)\n"
   ]
  },
  {
   "cell_type": "markdown",
   "metadata": {
    "id": "yF-WYUgQpdu8"
   },
   "source": [
    "**Problem - 2: Array Manipulation: Numerical Ranges and Array indexing:**\n",
    "\n",
    "Complete the following tasks:\n",
    "1. Create an array with values ranging from 10 to 49. {Hint:np.arrange()}.\n",
    "2. Create a 3X3 matrix with values ranging from 0 to 8.\n",
    "{Hint:look for np.reshape()}\n",
    "3. Create a 3X3 identity matrix.{Hint:np.eye()}\n",
    "4. Create a random array of size 30 and find the mean of the array.\n",
    "{Hint:check for np.random.random() and array.mean() function}\n",
    "5. Create a 10X10 array with random values and find the minimum and maximum values.\n",
    "6. Create a zero array of size 10 and replace 5th element with 1.\n",
    "7. Reverse an array arr = [1,2,0,0,4,0].\n",
    "8. Create a 2d array with 1 on border and 0 inside.\n",
    "9. Create a 8X8 matrix and fill it with a checkerboard pattern."
   ]
  },
  {
   "cell_type": "code",
   "execution_count": 19,
   "metadata": {
    "id": "NRnAqT56pjoS"
   },
   "outputs": [
    {
     "name": "stdout",
     "output_type": "stream",
     "text": [
      "\n",
      "Array from 10 to 49:\n",
      " [10 11 12 13 14 15 16 17 18 19 20 21 22 23 24 25 26 27 28 29 30 31 32 33\n",
      " 34 35 36 37 38 39 40 41 42 43 44 45 46 47 48 49]\n",
      "\n",
      "3x3 matrix from 0 to 8:\n",
      " [[0 1 2]\n",
      " [3 4 5]\n",
      " [6 7 8]]\n",
      "\n",
      "Identity matrix (3x3):\n",
      " [[1. 0. 0.]\n",
      " [0. 1. 0.]\n",
      " [0. 0. 1.]]\n",
      "\n",
      "Random array mean: 0.433229416110641\n",
      "\n",
      "Min value: 0.022380432173579545 Max value: 0.9993133928524945\n",
      "\n",
      "Zero array with 5th element replaced by 1:\n",
      " [0. 0. 0. 0. 1. 0. 0. 0. 0. 0.]\n",
      "\n",
      "Reversed array: [0 4 0 0 2 1]\n",
      "\n",
      "2D array with 1 on border and 0 inside:\n",
      " [[1. 1. 1. 1. 1.]\n",
      " [1. 0. 0. 0. 1.]\n",
      " [1. 0. 0. 0. 1.]\n",
      " [1. 0. 0. 0. 1.]\n",
      " [1. 1. 1. 1. 1.]]\n",
      "\n",
      "Checkerboard pattern (8x8):\n",
      " [[0. 1. 0. 1. 0. 1. 0. 1.]\n",
      " [1. 0. 1. 0. 1. 0. 1. 0.]\n",
      " [0. 1. 0. 1. 0. 1. 0. 1.]\n",
      " [1. 0. 1. 0. 1. 0. 1. 0.]\n",
      " [0. 1. 0. 1. 0. 1. 0. 1.]\n",
      " [1. 0. 1. 0. 1. 0. 1. 0.]\n",
      " [0. 1. 0. 1. 0. 1. 0. 1.]\n",
      " [1. 0. 1. 0. 1. 0. 1. 0.]]\n"
     ]
    }
   ],
   "source": [
    "array7 = np.arange(10, 50)\n",
    "print(\"\\nArray from 10 to 49:\\n\", array7)\n",
    "\n",
    "array8 = np.arange(9).reshape(3, 3)\n",
    "print(\"\\n3x3 matrix from 0 to 8:\\n\", array8)\n",
    "\n",
    "identity_matrix = np.eye(3)\n",
    "print(\"\\nIdentity matrix (3x3):\\n\", identity_matrix)\n",
    "\n",
    "random_array = np.random.random(30)\n",
    "mean_value = random_array.mean()\n",
    "print(\"\\nRandom array mean:\", mean_value)\n",
    "\n",
    "random_10x10 = np.random.random((10, 10))\n",
    "min_value = random_10x10.min()\n",
    "max_value = random_10x10.max()\n",
    "print(\"\\nMin value:\", min_value, \"Max value:\", max_value)\n",
    "\n",
    "array9 = np.zeros(10)\n",
    "array9[4] = 1\n",
    "print(\"\\nZero array with 5th element replaced by 1:\\n\", array9)\n",
    "\n",
    "arr = [1, 2, 0, 0, 4, 0]\n",
    "reversed_arr = np.flip(arr)\n",
    "print(\"\\nReversed array:\", reversed_arr)\n",
    "\n",
    "array10 = np.ones((5, 5))\n",
    "array10[1:-1, 1:-1] = 0\n",
    "print(\"\\n2D array with 1 on border and 0 inside:\\n\", array10)\n",
    "\n",
    "checkerboard = np.zeros((8, 8))\n",
    "checkerboard[1::2, ::2] = 1\n",
    "checkerboard[::2, 1::2] = 1\n",
    "print(\"\\nCheckerboard pattern (8x8):\\n\", checkerboard)\n"
   ]
  },
  {
   "cell_type": "markdown",
   "metadata": {
    "id": "ZVQgfQQkplc8"
   },
   "source": [
    "**Problem - 3: Array Operations:**\n",
    "\n",
    "For the following arrays:\n",
    "x = np.array([[1,2],[3,5]]) and y = np.array([[5,6],[7,8]]);\n",
    "v = np.array([9,10]) and w = np.array([11,12]);\n",
    "Complete all the task using numpy:\n",
    "1. Add the two array.\n",
    "2. Subtract the two array.\n",
    "3. Multiply the array with any integers of your choice.\n",
    "4. Find the square of each element of the array.\n",
    "5. Find the dot product between: v(and)w ; x(and)v ; x(and)y.\n",
    "6. Concatenate x(and)y along row and Concatenate v(and)w along column.\n",
    "{Hint:try np.concatenate() or np.vstack() functions.\n",
    "7. Concatenate x(and)v; if you get an error, observe and explain why did you get the error?"
   ]
  },
  {
   "cell_type": "code",
   "execution_count": 20,
   "metadata": {
    "id": "9LfICKreprqW"
   },
   "outputs": [
    {
     "name": "stdout",
     "output_type": "stream",
     "text": [
      "\n",
      "Addition of x and y:\n",
      " [[ 6  8]\n",
      " [10 13]]\n",
      "\n",
      "Subtraction of x and y:\n",
      " [[-4 -4]\n",
      " [-4 -3]]\n",
      "\n",
      "Multiplication of x by 2:\n",
      " [[ 2  4]\n",
      " [ 6 10]]\n",
      "\n",
      "Square of each element in x:\n",
      " [[ 1  4]\n",
      " [ 9 25]]\n",
      "\n",
      "Dot product v . w: 219\n",
      "Dot product x . v:\n",
      " [29 77]\n",
      "Dot product x . y:\n",
      " [[19 22]\n",
      " [50 58]]\n",
      "\n",
      "Concatenation of x and y along row:\n",
      " [[1 2 5 6]\n",
      " [3 5 7 8]]\n",
      "\n",
      "Concatenation of v and w along column:\n",
      " [[ 9 10]\n",
      " [11 12]]\n",
      "\n",
      "Error during concatenation of x and v: all the input arrays must have same number of dimensions, but the array at index 0 has 2 dimension(s) and the array at index 1 has 1 dimension(s)\n"
     ]
    }
   ],
   "source": [
    "# Arrays for operations\n",
    "x = np.array([[1, 2], [3, 5]])\n",
    "y = np.array([[5, 6], [7, 8]])\n",
    "v = np.array([9, 10])\n",
    "w = np.array([11, 12])\n",
    "\n",
    "add_result = x + y\n",
    "print(\"\\nAddition of x and y:\\n\", add_result)\n",
    "\n",
    "subtract_result = x - y\n",
    "print(\"\\nSubtraction of x and y:\\n\", subtract_result)\n",
    "\n",
    "multiply_result = x * 2\n",
    "print(\"\\nMultiplication of x by 2:\\n\", multiply_result)\n",
    "\n",
    "square_result = np.square(x)\n",
    "print(\"\\nSquare of each element in x:\\n\", square_result)\n",
    "\n",
    "dot_vw = np.dot(v, w)\n",
    "dot_xv = np.dot(x, v)\n",
    "dot_xy = np.dot(x, y)\n",
    "print(\"\\nDot product v . w:\", dot_vw)\n",
    "print(\"Dot product x . v:\\n\", dot_xv)\n",
    "print(\"Dot product x . y:\\n\", dot_xy)\n",
    "\n",
    "concat_xy_row = np.concatenate((x, y), axis=1)\n",
    "print(\"\\nConcatenation of x and y along row:\\n\", concat_xy_row)\n",
    "\n",
    "concat_vw_col = np.vstack((v, w))\n",
    "print(\"\\nConcatenation of v and w along column:\\n\", concat_vw_col)\n",
    "\n",
    "try:\n",
    "    concat_xv = np.concatenate((x, v), axis=1)\n",
    "except Exception as e:\n",
    "    print(\"\\nError during concatenation of x and v:\", e)\n"
   ]
  },
  {
   "cell_type": "markdown",
   "metadata": {
    "id": "8KB_w6OopoIm"
   },
   "source": [
    "**Problem - 4: Matrix Operations:**\n",
    "\n",
    "• For the following arrays:\n",
    "A = np.array([[3,4],[7,8]]) and B = np.array([[5,3],[2,1]]);\n",
    "Prove following with Numpy:\n",
    "1. Prove A.A−1 = I.\n",
    "2. Prove AB ̸= BA.\n",
    "3. Prove (AB)\n",
    "T = BTAT\n",
    "\n",
    "\n",
    "• Solve the following system of Linear equation using Inverse Methods.\n",
    "\n",
    "2x − 3y + z = −1\n",
    "\n",
    "x − y + 2z = −3\n",
    "\n",
    "3x + y − z = 9\n",
    "\n",
    "{Hint: First use Numpy array to represent the equation in Matrix form. Then Solve for: AX = B}\n",
    "\n",
    "• Now: solve the above equation using np.linalg.inv function.{Explore more about ”linalg” function of Numpy}"
   ]
  },
  {
   "cell_type": "code",
   "execution_count": 21,
   "metadata": {
    "id": "pALHYr2kp5HU"
   },
   "outputs": [
    {
     "name": "stdout",
     "output_type": "stream",
     "text": [
      "\n",
      "A * A^-1 (should be identity matrix):\n",
      " [[1.00000000e+00 0.00000000e+00]\n",
      " [1.77635684e-15 1.00000000e+00]]\n",
      "\n",
      "AB:\n",
      " [[23 13]\n",
      " [51 29]]\n",
      "BA:\n",
      " [[36 44]\n",
      " [13 16]]\n",
      "\n",
      "Transpose of AB:\n",
      " [[23 51]\n",
      " [13 29]]\n",
      "B^T * A^T:\n",
      " [[23 51]\n",
      " [13 29]]\n",
      "\n",
      "Soln to the system of equations (x, y, z): [ 2.  1. -2.]\n"
     ]
    }
   ],
   "source": [
    "A = np.array([[3, 4], [7, 8]])\n",
    "B = np.array([[5, 3], [2, 1]])\n",
    "\n",
    "A_inv = np.linalg.inv(A)\n",
    "identity_matrix = np.dot(A, A_inv)\n",
    "print(\"\\nA * A^-1 (should be identity matrix):\\n\", identity_matrix)\n",
    "\n",
    "#AB != BA\n",
    "AB = np.dot(A, B)\n",
    "BA = np.dot(B, A)\n",
    "print(\"\\nAB:\\n\", AB)\n",
    "print(\"BA:\\n\", BA)\n",
    "\n",
    "# (AB)^T = B^T * A^T\n",
    "AB_transpose = np.transpose(AB)\n",
    "BT_AT = np.dot(np.transpose(B), np.transpose(A))\n",
    "print(\"\\nTranspose of AB:\\n\", AB_transpose)\n",
    "print(\"B^T * A^T:\\n\", BT_AT)\n",
    "\n",
    "#linear equations\n",
    "coeff_matrix = np.array([[2, -3, 1], [1, -1, 2], [3, 1, -1]])\n",
    "const_matrix = np.array([-1, -3, 9])\n",
    "\n",
    "\n",
    "solution = np.linalg.solve(coeff_matrix, const_matrix)\n",
    "print(\"\\nSoln to the system of equations (x, y, z):\", solution)\n"
   ]
  },
  {
   "cell_type": "markdown",
   "metadata": {
    "id": "36KGEIDZp8nQ"
   },
   "source": [
    "**10.2 Experiment: How Fast is Numpy?**\n"
   ]
  },
  {
   "cell_type": "markdown",
   "metadata": {
    "id": "seXtIZC6qBEc"
   },
   "source": [
    "**1. Element-wise Addition:**\n",
    "\n",
    "• Using Python Lists, perform element-wise addition of two lists of size 1, 000, 000. Measure\n",
    "and Print the time taken for this operation.\n",
    "\n",
    "• Using Numpy Arrays, Repeat the calculation and measure and print the time taken for\n",
    "this operation."
   ]
  },
  {
   "cell_type": "code",
   "execution_count": 22,
   "metadata": {
    "id": "7vr_IufkqHJu"
   },
   "outputs": [
    {
     "name": "stdout",
     "output_type": "stream",
     "text": [
      "Time taken for element-wise addition using Python lists: 0.08632183074951172 seconds\n"
     ]
    }
   ],
   "source": [
    "import time\n",
    "\n",
    "list1 = [i for i in range(1000000)]\n",
    "list2 = [i for i in range(1000000)]\n",
    "\n",
    "start_time = time.time()\n",
    "result_list = [list1[i] + list2[i] for i in range(1000000)]\n",
    "end_time = time.time()\n",
    "\n",
    "print(f\"Time taken for element-wise addition using Python lists: {end_time - start_time} seconds\")\n"
   ]
  },
  {
   "cell_type": "markdown",
   "metadata": {
    "id": "EjRqdX2VqHaj"
   },
   "source": [
    "**2. Element-wise Multiplication**\n",
    "\n",
    "• Using Python Lists, perform element-wise multiplication of two lists of size 1, 000, 000.\n",
    "Measure and Print the time taken for this operation.\n",
    "\n",
    "• Using Numpy Arrays, Repeat the calculation and measur\n",
    "e and print the time taken for\n",
    "this operation.\n"
   ]
  },
  {
   "cell_type": "code",
   "execution_count": 23,
   "metadata": {
    "id": "dbZqoCnEqP4_"
   },
   "outputs": [
    {
     "name": "stdout",
     "output_type": "stream",
     "text": [
      "Time taken for element-wise addition using NumPy arrays: 0.005480527877807617 seconds\n"
     ]
    }
   ],
   "source": [
    "import numpy as np\n",
    "\n",
    "arr1 = np.arange(1000000)\n",
    "arr2 = np.arange(1000000)\n",
    "\n",
    "start_time = time.time()\n",
    "result_arr = arr1 + arr2\n",
    "end_time = time.time()\n",
    "\n",
    "print(f\"Time taken for element-wise addition using NumPy arrays: {end_time - start_time} seconds\")\n"
   ]
  },
  {
   "cell_type": "markdown",
   "metadata": {
    "id": "0-OKbMiIqQcs"
   },
   "source": [
    "**2. Element-wise Multiplication**\n",
    "\n",
    "• Using Python Lists, perform element-wise multiplication of two lists of size 1, 000, 000.\n",
    "Measure and Print the time taken for this operation.\n",
    "\n",
    "• Using Numpy Arrays, Repeat the calculation and measure and print the time taken for\n",
    "this operation."
   ]
  },
  {
   "cell_type": "code",
   "execution_count": 24,
   "metadata": {
    "id": "H-Url_mVqaQX"
   },
   "outputs": [
    {
     "name": "stdout",
     "output_type": "stream",
     "text": [
      "Time taken for element-wise multiplication using Python lists: 0.10989642143249512 seconds\n"
     ]
    }
   ],
   "source": [
    "start_time = time.time()\n",
    "result_mult_list = [list1[i] * list2[i] for i in range(1000000)]\n",
    "end_time = time.time()\n",
    "\n",
    "print(f\"Time taken for element-wise multiplication using Python lists: {end_time - start_time} seconds\")\n"
   ]
  },
  {
   "cell_type": "code",
   "execution_count": 25,
   "metadata": {},
   "outputs": [
    {
     "name": "stdout",
     "output_type": "stream",
     "text": [
      "Time taken for element-wise multiplication using NumPy arrays: 0.0062770843505859375 seconds\n"
     ]
    }
   ],
   "source": [
    "start_time = time.time()\n",
    "result_mult_arr = arr1 * arr2\n",
    "end_time = time.time()\n",
    "\n",
    "print(f\"Time taken for element-wise multiplication using NumPy arrays: {end_time - start_time} seconds\")\n"
   ]
  },
  {
   "cell_type": "markdown",
   "metadata": {
    "id": "N0jSuq3oqakX"
   },
   "source": [
    "**3. Dot Product**\n",
    "\n",
    "• Using Python Lists, compute the dot product of two lists of size 1, 000, 000. Measure and\n",
    "Print the time taken for this operation.\n",
    "\n",
    "• Using Numpy Arrays, Repeat the calculation and measure and print the time taken for\n",
    "this operation.\n"
   ]
  },
  {
   "cell_type": "code",
   "execution_count": 26,
   "metadata": {
    "id": "yikenObiqnKZ"
   },
   "outputs": [
    {
     "name": "stdout",
     "output_type": "stream",
     "text": [
      "Time taken for dot product using Python lists: 0.1382749080657959 seconds\n"
     ]
    }
   ],
   "source": [
    "start_time = time.time()\n",
    "dot_product_list = sum([list1[i] * list2[i] for i in range(1000000)])\n",
    "end_time = time.time()\n",
    "\n",
    "print(f\"Time taken for dot product using Python lists: {end_time - start_time} seconds\")\n"
   ]
  },
  {
   "cell_type": "code",
   "execution_count": 32,
   "metadata": {},
   "outputs": [
    {
     "name": "stdout",
     "output_type": "stream",
     "text": [
      "Time taken for dot product using NumPy arrays: 0.0027551651000976562 seconds\n"
     ]
    }
   ],
   "source": [
    "start_time = time.time()\n",
    "dot_product_arr = np.dot(arr1, arr2)\n",
    "end_time = time.time()\n",
    "\n",
    "print(f\"Time taken for dot product using NumPy arrays: {end_time - start_time} seconds\")\n"
   ]
  },
  {
   "cell_type": "markdown",
   "metadata": {
    "id": "0xDMyaD6qjC2"
   },
   "source": [
    "**4. Matrix Multiplication**\n",
    "\n",
    "• Using Python lists, perform matrix multiplication of two matrices of size 1000x1000. Measure and print the time taken for this operation.\n",
    "\n",
    "• Using NumPy arrays, perform matrix multiplication of two matrices of size 1000x1000.\n",
    "Measure and print the time taken for this operation."
   ]
  },
  {
   "cell_type": "code",
   "execution_count": 33,
   "metadata": {
    "id": "v-hjjxtGqsLB"
   },
   "outputs": [
    {
     "name": "stdout",
     "output_type": "stream",
     "text": [
      "Time taken for matrix multiplication using Python lists: 93.45408892631531 seconds\n"
     ]
    }
   ],
   "source": [
    "matrix1 = [[i + j for j in range(1000)] for i in range(1000)]\n",
    "matrix2 = [[i - j for j in range(1000)] for i in range(1000)]\n",
    "\n",
    "start_time = time.time()\n",
    "result_matrix_list = [\n",
    "    [sum(matrix1[i][k] * matrix2[k][j] for k in range(1000)) for j in range(1000)] \n",
    "    for i in range(1000)\n",
    "]\n",
    "end_time = time.time()\n",
    "\n",
    "print(f\"Time taken for matrix multiplication using Python lists: {end_time - start_time} seconds\")\n"
   ]
  },
  {
   "cell_type": "code",
   "execution_count": 29,
   "metadata": {},
   "outputs": [
    {
     "name": "stdout",
     "output_type": "stream",
     "text": [
      "Time taken for matrix multiplication using NumPy arrays: 0.017350435256958008 seconds\n"
     ]
    }
   ],
   "source": [
    "matrix1_arr = np.random.rand(1000, 1000)\n",
    "matrix2_arr = np.random.rand(1000, 1000)\n",
    "\n",
    "start_time = time.time()\n",
    "result_matrix_arr = np.dot(matrix1_arr, matrix2_arr)\n",
    "end_time = time.time()\n",
    "\n",
    "print(f\"Time taken for matrix multiplication using NumPy arrays: {end_time - start_time} seconds\")\n"
   ]
  }
 ],
 "metadata": {
  "colab": {
   "provenance": []
  },
  "kernelspec": {
   "display_name": "Python 3 (ipykernel)",
   "language": "python",
   "name": "python3"
  },
  "language_info": {
   "codemirror_mode": {
    "name": "ipython",
    "version": 3
   },
   "file_extension": ".py",
   "mimetype": "text/x-python",
   "name": "python",
   "nbconvert_exporter": "python",
   "pygments_lexer": "ipython3",
   "version": "3.13.2"
  }
 },
 "nbformat": 4,
 "nbformat_minor": 4
}
