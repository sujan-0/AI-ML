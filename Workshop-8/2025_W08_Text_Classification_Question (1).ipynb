{
  "nbformat": 4,
  "nbformat_minor": 0,
  "metadata": {
    "colab": {
      "provenance": []
    },
    "kernelspec": {
      "name": "python3",
      "display_name": "Python 3"
    },
    "language_info": {
      "name": "python"
    }
  },
  "cells": [
    {
      "cell_type": "code",
      "source": [
        "from google.colab import drive\n",
        "drive.mount('/content/drive')"
      ],
      "metadata": {
        "id": "V7DGbuYtB1JI"
      },
      "execution_count": null,
      "outputs": []
    },
    {
      "cell_type": "markdown",
      "source": [
        "## Helper Function for Text Cleaning:\n",
        "\n",
        "Implement a Helper Function as per Text Preprocessing Notebook and Complete the following pipeline."
      ],
      "metadata": {
        "id": "SxV-QBHp-B6J"
      }
    },
    {
      "cell_type": "markdown",
      "source": [
        "# Build a Text Cleaning Pipeline"
      ],
      "metadata": {
        "id": "B-llg-TI_Drw"
      }
    },
    {
      "cell_type": "code",
      "source": [
        "# Required Libraries\n",
        "import re\n",
        "import string\n",
        "import nltk\n",
        "import pandas as pd\n",
        "from nltk.corpus import stopwords\n",
        "from nltk.stem import WordNetLemmatizer, PorterStemmer\n",
        "from sklearn.model_selection import train_test_split\n",
        "from sklearn.feature_extraction.text import TfidfVectorizer\n",
        "from sklearn.linear_model import LogisticRegression\n",
        "from sklearn.metrics import classification_report\n",
        "\n",
        "# Download NLTK Resources\n",
        "nltk.download('stopwords')\n",
        "nltk.download('wordnet')\n",
        "nltk.download('omw-1.4')\n",
        "\n",
        "# Text Cleaning Function\n",
        "def text_cleaning_pipeline(dataset, rule=\"lemmatize\"):\n",
        "    lemmatizer = WordNetLemmatizer()\n",
        "    stemmer = PorterStemmer()\n",
        "    stop_words = set(stopwords.words('english'))\n",
        "    cleaned_texts = []\n",
        "\n",
        "    for text in dataset:\n",
        "        # Lowercase\n",
        "        data = text.lower()\n",
        "        # Remove URLs\n",
        "        data = re.sub(r'http\\S+|www\\S+|https\\S+', '', data)\n",
        "        # Remove emojis and non-ASCII\n",
        "        data = data.encode('ascii', 'ignore').decode('utf-8')\n",
        "        # Remove mentions, hashtags, punctuation, digits\n",
        "        data = re.sub(r'@\\w+|#\\w+|[%s]' % re.escape(string.punctuation), '', data)\n",
        "        data = re.sub(r'\\d+', '', data)\n",
        "        # Tokenize and remove stopwords\n",
        "        tokens = [word for word in data.split() if word not in stop_words]\n",
        "        # Lemmatize or Stem\n",
        "        if rule == \"lemmatize\":\n",
        "            tokens = [lemmatizer.lemmatize(word) for word in tokens]\n",
        "        elif rule == \"stem\":\n",
        "            tokens = [stemmer.stem(word) for word in tokens]\n",
        "        else:\n",
        "            print(\"Pick between lemmatize or stem\")\n",
        "        cleaned_texts.append(\" \".join(tokens))\n",
        "\n",
        "    return cleaned_texts"
      ],
      "metadata": {
        "id": "KCT1T3-68tN9",
        "colab": {
          "base_uri": "https://localhost:8080/"
        },
        "outputId": "05165341-5b8d-4510-a144-aab894639536"
      },
      "execution_count": null,
      "outputs": [
        {
          "output_type": "stream",
          "name": "stderr",
          "text": [
            "[nltk_data] Downloading package stopwords to /root/nltk_data...\n",
            "[nltk_data]   Unzipping corpora/stopwords.zip.\n",
            "[nltk_data] Downloading package wordnet to /root/nltk_data...\n",
            "[nltk_data] Downloading package omw-1.4 to /root/nltk_data...\n"
          ]
        }
      ]
    },
    {
      "cell_type": "markdown",
      "source": [
        "# Text Classification using Machine Learning Models\n"
      ],
      "metadata": {
        "id": "hzMm4-1KCNkH"
      }
    },
    {
      "cell_type": "markdown",
      "source": [
        "### 📝 Instructions: Trump Tweet Sentiment Classification\n",
        "\n",
        "1. **Load the Dataset**  \n",
        "   Load the dataset named `\"trump_tweet_sentiment_analysis.csv\"` using `pandas`. Ensure the dataset contains at least two columns: `\"text\"` and `\"label\"`.\n",
        "\n",
        "2. **Text Cleaning and Tokenization**  \n",
        "   Apply a text preprocessing pipeline to the `\"text\"` column. This should include:\n",
        "   - Lowercasing the text  \n",
        "   - Removing URLs, mentions, punctuation, and special characters  \n",
        "   - Removing stopwords  \n",
        "   - Tokenization (optional: stemming or lemmatization)\n",
        "   - \"Complete the above function\"\n",
        "\n",
        "3. **Train-Test Split**  \n",
        "   Split the cleaned and tokenized dataset into **training** and **testing** sets using `train_test_split` from `sklearn.model_selection`.\n",
        "\n",
        "4. **TF-IDF Vectorization**  \n",
        "   Import and use the `TfidfVectorizer` from `sklearn.feature_extraction.text` to transform the training and testing texts into numerical feature vectors.\n",
        "\n",
        "5. **Model Training and Evaluation**  \n",
        "   Import **Logistic Regression** (or any machine learning model of your choice) from `sklearn.linear_model`. Train it on the TF-IDF-embedded training data, then evaluate it using the test set.  \n",
        "   - Print the **classification report** using `classification_report` from `sklearn.metrics`.\n"
      ],
      "metadata": {
        "id": "oFltIxr9L2Wu"
      }
    },
    {
      "cell_type": "code",
      "source": [
        "\n",
        "\n",
        "# Load Dataset\n",
        "df = pd.read_csv(\"/content/drive/MyDrive/AI&ML-Level6/Week - 8 - Getting Started with NLP - Text Pre - processing and Text Representations/trum_tweet_sentiment_analysis.csv\")  # Replace with your file path if needed\n",
        "\n",
        "# Check Column Names\n",
        "print(\"Original Columns:\", df.columns.tolist())\n",
        "\n",
        "# Normalize column names\n",
        "df.columns = df.columns.str.strip().str.lower()\n",
        "print(\"Normalized Columns:\", df.columns.tolist())\n",
        "\n",
        "# 🧼 Check for required columns\n",
        "if 'text' in df.columns and 'label' in df.columns:\n",
        "    df = df[['text', 'label']].dropna()\n",
        "elif 'text' in df.columns and 'sentiment' in df.columns:\n",
        "    df = df[['text', 'sentiment']].dropna()\n",
        "    df.rename(columns={'sentiment': 'label'}, inplace=True)\n",
        "else:\n",
        "    raise KeyError(\"Dataset must contain 'text' and 'label' or 'sentiment' columns.\")\n",
        "\n",
        "# Clean Text\n",
        "df['cleaned_text'] = text_cleaning_pipeline(df['text'], rule=\"lemmatize\")\n",
        "\n",
        "# Train-Test Split\n",
        "X_train, X_test, y_train, y_test = train_test_split(\n",
        "    df['cleaned_text'], df['label'], test_size=0.2, random_state=42\n",
        ")\n",
        "\n",
        "# TF-IDF Vectorization\n",
        "vectorizer = TfidfVectorizer(max_features=5000)\n",
        "X_train_vec = vectorizer.fit_transform(X_train)\n",
        "X_test_vec = vectorizer.transform(X_test)\n",
        "\n",
        "# Train Logistic Regression Model\n",
        "model = LogisticRegression()\n",
        "model.fit(X_train_vec, y_train)\n",
        "\n",
        "# Evaluation\n",
        "y_pred = model.predict(X_test_vec)\n",
        "print(\"Classification Report:\\n\")\n",
        "print(classification_report(y_test, y_pred))\n"
      ],
      "metadata": {
        "colab": {
          "base_uri": "https://localhost:8080/"
        },
        "id": "wBbVNpBhEn69",
        "outputId": "876b40ac-89da-42db-f7c6-29975411c98d"
      },
      "execution_count": null,
      "outputs": [
        {
          "output_type": "stream",
          "name": "stdout",
          "text": [
            "Original Columns: ['text', 'Sentiment']\n",
            "Normalized Columns: ['text', 'sentiment']\n",
            "Classification Report:\n",
            "\n",
            "              precision    recall  f1-score   support\n",
            "\n",
            "           0       0.94      0.95      0.95    248563\n",
            "           1       0.90      0.87      0.88    121462\n",
            "\n",
            "    accuracy                           0.93    370025\n",
            "   macro avg       0.92      0.91      0.91    370025\n",
            "weighted avg       0.93      0.93      0.93    370025\n",
            "\n"
          ]
        }
      ]
    }
  ]
}